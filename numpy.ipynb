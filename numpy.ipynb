{
 "cells": [
  {
   "cell_type": "code",
   "execution_count": 2,
   "metadata": {},
   "outputs": [],
   "source": [
    "#importing numpy\n",
    "import numpy as np"
   ]
  },
  {
   "cell_type": "code",
   "execution_count": 3,
   "metadata": {},
   "outputs": [
    {
     "name": "stdout",
     "output_type": "stream",
     "text": [
      "[0 1 2 3]\n"
     ]
    }
   ],
   "source": [
    "#creating an array from list\n",
    "a = np.array([0,1,2,3])\n",
    "print(a)"
   ]
  },
  {
   "cell_type": "code",
   "execution_count": 4,
   "metadata": {},
   "outputs": [
    {
     "name": "stdout",
     "output_type": "stream",
     "text": [
      "[0 1 2 3 4 5 6 7 8 9]\n"
     ]
    }
   ],
   "source": [
    "#creating array of first 10 numbers\n",
    "print(np.arange(10))"
   ]
  },
  {
   "cell_type": "code",
   "execution_count": 5,
   "metadata": {},
   "outputs": [
    {
     "name": "stdout",
     "output_type": "stream",
     "text": [
      "[0 1 2 3]\n"
     ]
    }
   ],
   "source": [
    "#1-Dimensional array\n",
    "a = np.array([0,1,2,3])\n",
    "print(a)"
   ]
  },
  {
   "cell_type": "code",
   "execution_count": 6,
   "metadata": {},
   "outputs": [
    {
     "name": "stdout",
     "output_type": "stream",
     "text": [
      "1\n"
     ]
    }
   ],
   "source": [
    "#printing dimensions of array\n",
    "print(a.ndim)"
   ]
  },
  {
   "cell_type": "code",
   "execution_count": 7,
   "metadata": {},
   "outputs": [
    {
     "name": "stdout",
     "output_type": "stream",
     "text": [
      "(4,)\n"
     ]
    }
   ],
   "source": [
    "#printing shape of array\n",
    "print(a.shape)"
   ]
  },
  {
   "cell_type": "code",
   "execution_count": 8,
   "metadata": {},
   "outputs": [
    {
     "name": "stdout",
     "output_type": "stream",
     "text": [
      "4\n"
     ]
    }
   ],
   "source": [
    "#printing length of array\n",
    "print(len(a))"
   ]
  },
  {
   "cell_type": "code",
   "execution_count": 9,
   "metadata": {},
   "outputs": [
    {
     "name": "stdout",
     "output_type": "stream",
     "text": [
      "[[0 1 2]\n",
      " [3 4 5]]\n"
     ]
    }
   ],
   "source": [
    "#2-Dimensional array\n",
    "b = np.array([[0,1,2],[3,4,5]])\n",
    "print(b)"
   ]
  },
  {
   "cell_type": "code",
   "execution_count": 10,
   "metadata": {},
   "outputs": [
    {
     "name": "stdout",
     "output_type": "stream",
     "text": [
      "2\n"
     ]
    }
   ],
   "source": [
    "#printing dimensional of b\n",
    "print(b.ndim)"
   ]
  },
  {
   "cell_type": "code",
   "execution_count": 11,
   "metadata": {},
   "outputs": [
    {
     "name": "stdout",
     "output_type": "stream",
     "text": [
      "(2, 3)\n"
     ]
    }
   ],
   "source": [
    "#printing shape of b\n",
    "print(b.shape)"
   ]
  },
  {
   "cell_type": "code",
   "execution_count": 12,
   "metadata": {},
   "outputs": [
    {
     "name": "stdout",
     "output_type": "stream",
     "text": [
      "2\n"
     ]
    }
   ],
   "source": [
    "#printing length of b\n",
    "#returns the size of 1st dimensional \n",
    "print(len(b))"
   ]
  },
  {
   "cell_type": "code",
   "execution_count": 13,
   "metadata": {},
   "outputs": [
    {
     "name": "stdout",
     "output_type": "stream",
     "text": [
      "[[[0 1]\n",
      "  [2 3]]\n",
      "\n",
      " [[4 5]\n",
      "  [6 7]]]\n"
     ]
    }
   ],
   "source": [
    "#3-Dimensional array\n",
    "c = np.array([[[0,1],[2,3]],[[4,5],[6,7]]])\n",
    "print(c)"
   ]
  },
  {
   "cell_type": "code",
   "execution_count": 14,
   "metadata": {},
   "outputs": [
    {
     "name": "stdout",
     "output_type": "stream",
     "text": [
      "3\n"
     ]
    }
   ],
   "source": [
    "#printing dimensional of c\n",
    "print(c.ndim)"
   ]
  },
  {
   "cell_type": "code",
   "execution_count": 15,
   "metadata": {},
   "outputs": [
    {
     "name": "stdout",
     "output_type": "stream",
     "text": [
      "(2, 2, 2)\n"
     ]
    }
   ],
   "source": [
    "#printing shape of c\n",
    "print(c.shape)"
   ]
  },
  {
   "cell_type": "code",
   "execution_count": 16,
   "metadata": {},
   "outputs": [
    {
     "name": "stdout",
     "output_type": "stream",
     "text": [
      "2\n"
     ]
    }
   ],
   "source": [
    "#printing length of c\n",
    "print(len(c))"
   ]
  },
  {
   "cell_type": "code",
   "execution_count": 17,
   "metadata": {},
   "outputs": [
    {
     "name": "stdout",
     "output_type": "stream",
     "text": [
      "[1 2 3 4 5 6 7 8 9]\n"
     ]
    }
   ],
   "source": [
    "#creating array with range\n",
    "a = np.arange(1,10)\n",
    "print(a)"
   ]
  },
  {
   "cell_type": "code",
   "execution_count": 18,
   "metadata": {},
   "outputs": [
    {
     "name": "stdout",
     "output_type": "stream",
     "text": [
      "[1 3 5 7 9]\n"
     ]
    }
   ],
   "source": [
    "#creating array with range with stepsize\n",
    "a = np.arange(1,10,2) #np.arange(starting_index,end_index,step_size)\n",
    "print(a)"
   ]
  },
  {
   "cell_type": "code",
   "execution_count": 19,
   "metadata": {},
   "outputs": [
    {
     "name": "stdout",
     "output_type": "stream",
     "text": [
      "[0.  0.2 0.4 0.6 0.8 1. ]\n"
     ]
    }
   ],
   "source": [
    "#creating array with linspace\n",
    "b = np.linspace(0,1,6) #np.linspace(starting_index,end_index,number_of_points)\n",
    "print(b)"
   ]
  },
  {
   "cell_type": "code",
   "execution_count": 22,
   "metadata": {},
   "outputs": [
    {
     "name": "stdout",
     "output_type": "stream",
     "text": [
      "[[1. 1. 1.]\n",
      " [1. 1. 1.]\n",
      " [1. 1. 1.]]\n"
     ]
    }
   ],
   "source": [
    "#common Arrays\n",
    "#Array of ones\n",
    "a = np.ones((3,3))\n",
    "print(a)"
   ]
  },
  {
   "cell_type": "code",
   "execution_count": 25,
   "metadata": {},
   "outputs": [
    {
     "name": "stdout",
     "output_type": "stream",
     "text": [
      "[[0. 0. 0.]\n",
      " [0. 0. 0.]\n",
      " [0. 0. 0.]]\n"
     ]
    }
   ],
   "source": [
    "#Arrays of zeros\n",
    "a = np.zeros((3,3))\n",
    "print(a)"
   ]
  },
  {
   "cell_type": "code",
   "execution_count": 26,
   "metadata": {},
   "outputs": [
    {
     "name": "stdout",
     "output_type": "stream",
     "text": [
      "[[1 0 0 0]\n",
      " [0 2 0 0]\n",
      " [0 0 3 0]\n",
      " [0 0 0 4]]\n"
     ]
    }
   ],
   "source": [
    "#Arrays of diagonal\n",
    "a = np.diag([1,2,3,4])\n",
    "print(a)"
   ]
  },
  {
   "cell_type": "code",
   "execution_count": 27,
   "metadata": {},
   "outputs": [
    {
     "name": "stdout",
     "output_type": "stream",
     "text": [
      "[0.50072614 0.58137073 0.59370065 0.04169965]\n"
     ]
    }
   ],
   "source": [
    "#Create an array using random\n",
    "a = np.random.rand(4)\n",
    "print(a)"
   ]
  },
  {
   "cell_type": "code",
   "execution_count": 28,
   "metadata": {},
   "outputs": [
    {
     "name": "stdout",
     "output_type": "stream",
     "text": [
      "[-0.72911166  0.00503577  0.26564909 -0.3401185 ]\n"
     ]
    }
   ],
   "source": [
    "#Returns array with standard normalisation\n",
    "a = np.random.randn(4)\n",
    "print(a)"
   ]
  },
  {
   "cell_type": "markdown",
   "metadata": {},
   "source": [
    "**The items of an array can be assigned and accessed as same way as other python sequences.**"
   ]
  },
  {
   "cell_type": "code",
   "execution_count": 29,
   "metadata": {},
   "outputs": [
    {
     "name": "stdout",
     "output_type": "stream",
     "text": [
      "5\n"
     ]
    }
   ],
   "source": [
    "#printing 5th element of an array\n",
    "a = np.arange(10)\n",
    "print(a[5])"
   ]
  },
  {
   "cell_type": "code",
   "execution_count": 30,
   "metadata": {},
   "outputs": [
    {
     "name": "stdout",
     "output_type": "stream",
     "text": [
      "3\n"
     ]
    }
   ],
   "source": [
    "a = np.diag([1,2,3])\n",
    "print(a[2,2])"
   ]
  },
  {
   "cell_type": "code",
   "execution_count": 31,
   "metadata": {},
   "outputs": [
    {
     "name": "stdout",
     "output_type": "stream",
     "text": [
      "[0 1 2 5 4 5 6 7 8 9]\n"
     ]
    }
   ],
   "source": [
    "#assigning value to index\n",
    "a = np.arange(10)\n",
    "a[3] = 5\n",
    "print(a)"
   ]
  },
  {
   "cell_type": "code",
   "execution_count": 36,
   "metadata": {},
   "outputs": [
    {
     "name": "stdout",
     "output_type": "stream",
     "text": [
      "[1 3 5 7]\n"
     ]
    }
   ],
   "source": [
    "#Slicing\n",
    "a = np.arange(15)\n",
    "print(a[1:8:2])  #print(array_name(starting_index:end_index:step_size))"
   ]
  },
  {
   "cell_type": "code",
   "execution_count": 39,
   "metadata": {},
   "outputs": [
    {
     "name": "stdout",
     "output_type": "stream",
     "text": [
      "[0 1 2 3 4 5 6 7 8 9]\n",
      "[0 1 2 5 5 5 5 5 8 9]\n"
     ]
    }
   ],
   "source": [
    "#we can also combine assignment and slicing operation\n",
    "a = np.arange(10)\n",
    "print(a)\n",
    "a[3:8] = 5\n",
    "print(a)"
   ]
  },
  {
   "cell_type": "code",
   "execution_count": 43,
   "metadata": {},
   "outputs": [
    {
     "name": "stdout",
     "output_type": "stream",
     "text": [
      "[ 1  2  3  4  5  6  7  8  9 10]\n",
      "[ 2  3  4  5  6  7  8  9 10 11]\n",
      "[0 1 2 3 4 5 6 7 8 9]\n",
      "[ 2  4  6  8 10 12 14 16 18 20]\n",
      "[0.5 1.  1.5 2.  2.5 3.  3.5 4.  4.5 5. ]\n"
     ]
    }
   ],
   "source": [
    "#Element wise operation\n",
    "#Basic operation \n",
    "#Addition\n",
    "a = np.array([1,2,3,4,5,6,7,8,9,10])\n",
    "print(a)\n",
    "print(a+1)\n",
    "\n",
    "#Subtraction\n",
    "print(a-1)\n",
    "\n",
    "#Multiplication\n",
    "print(a*2)\n",
    "\n",
    "#Division\n",
    "print(a/2)"
   ]
  },
  {
   "cell_type": "code",
   "execution_count": 52,
   "metadata": {},
   "outputs": [
    {
     "name": "stdout",
     "output_type": "stream",
     "text": [
      "Subtraction of two arrays is : [-10 -10 -10 -10 -10 -10 -10 -10 -10 -10]\n",
      "Addition of two arrays is : [12 14 16 18 20 22 24 26 28 30]\n",
      "Multiplication of two array is : [ 11  24  39  56  75  96 119 144 171 200]\n",
      "Multiplication of two array is: 935\n",
      "Division of two array is : [0.09090909 0.16666667 0.23076923 0.28571429 0.33333333 0.375\n",
      " 0.41176471 0.44444444 0.47368421 0.5       ]\n",
      "power of 2 to the every array element [  1   4   9  16  25  36  49  64  81 100]\n"
     ]
    }
   ],
   "source": [
    "a = np.array([1,2,3,4,5,6,7,8,9,10])\n",
    "b = np.array([11,12,13,14,15,16,17,18,19,20])\n",
    "print(\"Subtraction of two arrays is :\",a-b)\n",
    "print(\"Addition of two arrays is :\",a+b)\n",
    "print(\"Multiplication of two array elementwise :\",a*b)\n",
    "print(\"Multiplication of two array is:\",a.dot(b))\n",
    "print(\"Division of two array is :\",a/b)\n",
    "print(\"power of 2 to the every array element\",a**2)"
   ]
  },
  {
   "cell_type": "code",
   "execution_count": 56,
   "metadata": {},
   "outputs": [
    {
     "name": "stdout",
     "output_type": "stream",
     "text": [
      "[False False  True  True False]\n",
      "[False False False False  True]\n",
      "[ True  True False False False]\n"
     ]
    }
   ],
   "source": [
    "#Element wise commparison\n",
    "a = np.array([1,2,3,4,6])\n",
    "b = np.array([3,4,3,4,5])\n",
    "print(a==b)\n",
    "print(a>b)\n",
    "print(a<b)"
   ]
  },
  {
   "cell_type": "code",
   "execution_count": 58,
   "metadata": {},
   "outputs": [
    {
     "name": "stdout",
     "output_type": "stream",
     "text": [
      "False\n",
      "True\n"
     ]
    }
   ],
   "source": [
    "#Array wise comparision\n",
    "a = np.array([1,2,3,4,5])\n",
    "b = np.array([3,4,5,6,7])\n",
    "c = np.array([1,2,3,4,5])\n",
    "print(np.array_equal(a,b))\n",
    "print(np.array_equal(a,c))"
   ]
  },
  {
   "cell_type": "code",
   "execution_count": 67,
   "metadata": {},
   "outputs": [
    {
     "name": "stdout",
     "output_type": "stream",
     "text": [
      "[ True  True  True False]\n",
      "[ True False False False]\n",
      "[False  True  True False]\n",
      "[False False  True  True]\n"
     ]
    }
   ],
   "source": [
    "#Logical operations\n",
    "a = np.array([1,1,0,0])\n",
    "b = np.array([1,0,1,0])\n",
    "print(np.logical_or(a,b))\n",
    "print(np.logical_and(a,b))\n",
    "print(np.logical_xor(a,b))\n",
    "print(np.logical_not(a))"
   ]
  },
  {
   "cell_type": "code",
   "execution_count": 74,
   "metadata": {},
   "outputs": [
    {
     "name": "stdout",
     "output_type": "stream",
     "text": [
      "sin value of each element in array: [ 0.          0.84147098  0.90929743  0.14112001 -0.7568025  -0.95892427\n",
      " -0.2794155   0.6569866   0.98935825  0.41211849]\n",
      "cos value of each element in array [ 1.          0.54030231 -0.41614684 -0.9899925  -0.65364362  0.28366219\n",
      "  0.96017029  0.75390225 -0.14550003 -0.91113026]\n",
      "tan value of each element in array [ 0.          1.55740772 -2.18503986 -0.14254654  1.15782128 -3.38051501\n",
      " -0.29100619  0.87144798 -6.79971146 -0.45231566]\n",
      "logarithmic value of each element in array [      -inf 0.         0.69314718 1.09861229 1.38629436 1.60943791\n",
      " 1.79175947 1.94591015 2.07944154 2.19722458]\n",
      "exponential value of each element in array [1.00000000e+00 2.71828183e+00 7.38905610e+00 2.00855369e+01\n",
      " 5.45981500e+01 1.48413159e+02 4.03428793e+02 1.09663316e+03\n",
      " 2.98095799e+03 8.10308393e+03]\n"
     ]
    },
    {
     "name": "stderr",
     "output_type": "stream",
     "text": [
      "C:\\Users\\dhruv\\Anaconda3\\envs\\tensorflow_env\\lib\\site-packages\\ipykernel_launcher.py:6: RuntimeWarning: divide by zero encountered in log\n",
      "  \n"
     ]
    }
   ],
   "source": [
    "#Mathematical Functions\n",
    "a = np.arange(10)\n",
    "print(\"sin value of each element in array:\",np.sin(a))\n",
    "print(\"cos value of each element in array\",np.cos(a))\n",
    "print(\"tan value of each element in array\",np.tan(a))\n",
    "print(\"logarithmic value of each element in array\",np.log(a))\n",
    "print(\"exponential value of each element in array\",np.exp(a))"
   ]
  },
  {
   "cell_type": "code",
   "execution_count": 76,
   "metadata": {},
   "outputs": [
    {
     "name": "stdout",
     "output_type": "stream",
     "text": [
      "[1 2 3 4]\n",
      "10\n"
     ]
    }
   ],
   "source": [
    "#basic reduction\n",
    "a = np.array([1,2,3,4])\n",
    "print(a)\n",
    "print(np.sum(a))"
   ]
  },
  {
   "cell_type": "code",
   "execution_count": 78,
   "metadata": {},
   "outputs": [
    {
     "name": "stdout",
     "output_type": "stream",
     "text": [
      "[3 3]\n",
      "[2 4]\n"
     ]
    }
   ],
   "source": [
    "#sum by rows and by columns\n",
    "a = np.array([[1,1],[2,2]])\n",
    "print(a.sum(axis=0))\n",
    "print(a.sum(axis=1))"
   ]
  },
  {
   "cell_type": "code",
   "execution_count": 80,
   "metadata": {},
   "outputs": [
    {
     "name": "stdout",
     "output_type": "stream",
     "text": [
      "1\n",
      "3\n",
      "0\n",
      "2\n"
     ]
    }
   ],
   "source": [
    "#minimum and maximum\n",
    "a = np.array([1,2,3])\n",
    "print(a.min())\n",
    "print(a.max())\n",
    "print(a.argmin()) #returns index of minimum element\n",
    "print(a.argmax()) #returns index of maximum element"
   ]
  },
  {
   "cell_type": "code",
   "execution_count": 81,
   "metadata": {},
   "outputs": [
    {
     "name": "stdout",
     "output_type": "stream",
     "text": [
      "False\n",
      "True\n",
      "False\n",
      "True\n"
     ]
    }
   ],
   "source": [
    "#all and any\n",
    "print(np.all([True,False,True]))   #returns True if every element is True else returns False\n",
    "print(np.all([True,True,True]))    #returns True if every element is True else returns False\n",
    "print(np.any([False,False,False])) #returns True if any of element is True else returns False\n",
    "print(np.any([True,False,True]))   #returns True if any of element is True else returns False"
   ]
  },
  {
   "cell_type": "code",
   "execution_count": 94,
   "metadata": {},
   "outputs": [
    {
     "name": "stdout",
     "output_type": "stream",
     "text": [
      "3.5714285714285716\n",
      "4.0\n",
      "[2. 4.]\n",
      "1.3997084244475304\n",
      "1.3997084244475304\n"
     ]
    }
   ],
   "source": [
    "#statistics \n",
    "a = np.array([1,2,3,4,3,2,4,5,4,3,4,4,4,7])\n",
    "b = np.array([[1,2,3,4,3,2,1,2,3],[1,2,3,3,4,45,5,6,6]])\n",
    "print(np.mean(a))\n",
    "print(np.median(a))\n",
    "print(np.median(b,axis=1))\n",
    "print(np.std(a)) \n",
    "print(a.std()) #same as np.std(a)"
   ]
  },
  {
   "cell_type": "code",
   "execution_count": 104,
   "metadata": {},
   "outputs": [
    {
     "name": "stdout",
     "output_type": "stream",
     "text": [
      "[[ 0 10 20 30]\n",
      " [ 0 10 20 30]\n",
      " [ 0 10 20 30]]\n"
     ]
    }
   ],
   "source": [
    "#broadcasting\n",
    "a = np.tile(np.arange(0,40,10),(3,1)) #np.tile(np.arange(starting_index,end_index,step_size),(number_of_rows,number_of repetations))\n",
    "print(a)"
   ]
  }
 ],
 "metadata": {
  "kernelspec": {
   "display_name": "Python 3",
   "language": "python",
   "name": "python3"
  },
  "language_info": {
   "codemirror_mode": {
    "name": "ipython",
    "version": 3
   },
   "file_extension": ".py",
   "mimetype": "text/x-python",
   "name": "python",
   "nbconvert_exporter": "python",
   "pygments_lexer": "ipython3",
   "version": "3.7.3"
  }
 },
 "nbformat": 4,
 "nbformat_minor": 2
}
